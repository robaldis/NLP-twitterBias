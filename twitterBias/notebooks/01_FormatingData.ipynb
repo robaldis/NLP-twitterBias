{
 "cells": [
  {
   "cell_type": "markdown",
   "metadata": {},
   "source": [
    "# Formating the data\n",
    "\n",
    "### Imports\n",
    "- tweepy - The data object that the data is saved in\n",
    "- pickle - To unpickle the variables that have been saved\n",
    "- pandas - To reprosent the data in a dataframe\n",
    "- numpy - Working with arrays\n",
    "- glob - Easy way to gather all the files in a folder"
   ]
  },
  {
   "cell_type": "code",
   "execution_count": null,
   "metadata": {},
   "outputs": [],
   "source": [
    "import tweepy\n",
    "import pickle\n",
    "import pandas\n",
    "import numpy as np\n",
    "import glob"
   ]
  },
  {
   "cell_type": "markdown",
   "metadata": {},
   "source": [
    "## Testing the data\n",
    "\n",
    "This is just to understand that data in each file and how to index it.\n",
    "to get the information that we want we need to index the key firstly, then there will be a list of tweet data objects. To get the text of the tweet its then just ```.text```\n",
    "\n",
    "The data comes in as such:\n",
    "```{\"user\" : [{tweet}, {tweet}, {tweet}]}```"
   ]
  },
  {
   "cell_type": "code",
   "execution_count": null,
   "metadata": {},
   "outputs": [],
   "source": [
    "#file = \"../tweets/12.p\""
   ]
  },
  {
   "cell_type": "code",
   "execution_count": null,
   "metadata": {},
   "outputs": [],
   "source": [
    "#with open (file, \"rb\") as f:\n",
    "#    data = pickle.load(f)\n",
    "#    f.close()\n",
    "#print(data)"
   ]
  },
  {
   "cell_type": "code",
   "execution_count": null,
   "metadata": {},
   "outputs": [],
   "source": [
    "#data[12][0].text"
   ]
  },
  {
   "cell_type": "markdown",
   "metadata": {},
   "source": [
    "## Collecting the data\n",
    "\n",
    "This chunk of code collects all the names of the files that need to be opened so they can be user with the ```open()``` function to read all of the data in each file. \n",
    "\n",
    "The next chunk of code is similar to above where it collects all of the informaiont of the users tweets and adds them to a dictionary with an array of users and an array of users 1st, 2nd, ..., 1000th tweet. This seemed to be the easiest way to format the data to work with pandas data frame and show the data cohesivley. The data also needs to have the same amount of tweets for each user so we have to check if they have enough tweets before we start putting thier informaion in the data.\n",
    "\n",
    "The last part of the code trys to append the tweet text to the tweet array, however, if it is the first tweet to go in then it has to create that array so the exception does so.\n",
    "\n",
    "Finally we can add this dictionary to the data frame and show it in a nice looking table."
   ]
  },
  {
   "cell_type": "code",
   "execution_count": null,
   "metadata": {},
   "outputs": [],
   "source": [
    "files = []\n",
    "for name in glob.glob('../tweets/*'):\n",
    "    print (name)\n",
    "    files.append(name)"
   ]
  },
  {
   "cell_type": "code",
   "execution_count": null,
   "metadata": {
    "scrolled": true
   },
   "outputs": [],
   "source": [
    "userData = {\n",
    "    \"User\": np.array([]),\n",
    "    \"tweets\": np.array([])\n",
    "}\n",
    "for j in range (50):\n",
    "    file = files[j]\n",
    "    with open(file, 'rb') as f:\n",
    "        accounts = pickle.load(f)\n",
    "        for user, value in accounts.items():\n",
    "            combTweet = \"\"\n",
    "            if (len(value) < 1000):\n",
    "                break\n",
    "            userData[\"User\"]=np.append(userData[\"User\"], [user])\n",
    "            for i in range(1000):\n",
    "                tweet = value[i]\n",
    "                combTweet = combTweet+ tweet.text\n",
    "                \n",
    "            userData[\"tweets\"] = np.append(userData['tweets'], [combTweet])\n",
    "            "
   ]
  },
  {
   "cell_type": "code",
   "execution_count": null,
   "metadata": {},
   "outputs": [],
   "source": [
    "print (len(userData['tweets']))\n",
    "df = pandas.DataFrame(userData)\n",
    "df.style"
   ]
  },
  {
   "cell_type": "code",
   "execution_count": null,
   "metadata": {},
   "outputs": [],
   "source": [
    "with open (\"pickle/rawDataFrame.p\", \"wb\") as f:\n",
    "    pickle.dump(df, f)"
   ]
  },
  {
   "cell_type": "code",
   "execution_count": null,
   "metadata": {},
   "outputs": [],
   "source": [
    "len(df[\"tweets\"][0])"
   ]
  }
 ],
 "metadata": {
  "kernelspec": {
   "display_name": "Python 3",
   "language": "python",
   "name": "python3"
  },
  "language_info": {
   "codemirror_mode": {
    "name": "ipython",
    "version": 3
   },
   "file_extension": ".py",
   "mimetype": "text/x-python",
   "name": "python",
   "nbconvert_exporter": "python",
   "pygments_lexer": "ipython3",
   "version": "3.8.3"
  }
 },
 "nbformat": 4,
 "nbformat_minor": 4
}
